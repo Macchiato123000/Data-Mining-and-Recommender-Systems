{
 "cells": [
  {
   "cell_type": "markdown",
   "metadata": {},
   "source": [
    "# Problem 1"
   ]
  },
  {
   "cell_type": "code",
   "execution_count": 69,
   "metadata": {},
   "outputs": [
    {
     "name": "stdout",
     "output_type": "stream",
     "text": [
      "Reading data...\n",
      "done\n"
     ]
    }
   ],
   "source": [
    "import matplotlib.pyplot as plt\n",
    "%matplotlib inline\n",
    "import numpy as np\n",
    "import urllib.request\n",
    "import scipy.optimize\n",
    "import random\n",
    "from math import exp\n",
    "from math import log\n",
    "import time\n",
    "from random import shuffle\n",
    "\n",
    "def parseData(fname):\n",
    "    for l in urllib.request.urlopen(fname):\n",
    "        yield eval(l)\n",
    "\n",
    "print(\"Reading data...\")\n",
    "\n",
    "data = list(parseData(\"file:beer_50000.json\"))\n",
    "shuffle(data)\n",
    "\n",
    "print(\"done\")\n",
    "\n",
    "def feature(datum):\n",
    "    feat = [1, datum['review/taste'], datum['review/appearance'], datum['review/aroma'], datum['review/palate'], datum['review/overall']]\n",
    "    return feat\n",
    "\n",
    "X = np.array([feature(d) for d in data])\n",
    "Y = np.array([d['beer/ABV'] >= 6.5 for d in data])"
   ]
  },
  {
   "cell_type": "code",
   "execution_count": 108,
   "metadata": {},
   "outputs": [],
   "source": [
    "def sigmoid(x):\n",
    "    return 1.0 / (1 + exp(-x))\n",
    "\n",
    "##################################################\n",
    "# Logistic regression by gradient ascent         #\n",
    "##################################################\n",
    "\n",
    "# NEGATIVE Log-likelihood\n",
    "def f(theta, X, y, lam):\n",
    "    loglikelihood = 0\n",
    "    # Array of inner products for X_i, theta\n",
    "    logits = np.dot(X, theta.T)\n",
    "    for i in range(len(X)):\n",
    "        if y[i]:\n",
    "            loglikelihood -= log(1 + exp(-logits[i]))\n",
    "        else:\n",
    "            loglikelihood -= log(1 + exp(-logits[i]))\n",
    "            loglikelihood -= logits[i]\n",
    "    for k in range(len(theta)):\n",
    "        loglikelihood -= lam * theta[k]*theta[k]\n",
    "    #print loglikelihood\n",
    "    return -loglikelihood\n",
    "\n",
    "# NEGATIVE Derivative of log-likelihood\n",
    "def fprime(theta, X, y, lam):\n",
    "    dl = [0]*len(theta)\n",
    "    # Inner product of X_i, theta\n",
    "    logits = np.dot(X, theta.T)\n",
    "    for i in range(len(X)):\n",
    "        for k in range(len(theta)):\n",
    "            if y[i]:\n",
    "                dl[k] += X[i][k] * (1 - sigmoid(logits[i]))\n",
    "            else:\n",
    "                dl[k] += X[i][k] * (1 - sigmoid(logits[i]))\n",
    "                dl[k] -= X[i][k]\n",
    "    for k in range(len(theta)):\n",
    "        dl[k] -= lam*2*theta[k]\n",
    "    return np.array([-x for x in dl])\n",
    "\n",
    "def train(lam, X, Y, f, fprime):\n",
    "    theta,_,_ = scipy.optimize.fmin_l_bfgs_b(f, [0]*len(X[0]), fprime, pgtol = 10, args = (X, Y, lam))\n",
    "    return theta\n",
    "\n",
    "def predict(X, theta):\n",
    "    pred = np.dot(X, theta.T)\n",
    "    assert pred.shape == (len(X),), \"Expected shape: {}, but was: {}\".format((len(X),), pred.shape)\n",
    "    return pred > 0\n",
    "\n",
    "def accuracy(theta, Y, X):\n",
    "    predictions = predict(X, theta)\n",
    "    correct = predictions == Y\n",
    "    acc = sum(correct) * 1.0 / float(len(correct))\n",
    "    return acc"
   ]
  },
  {
   "cell_type": "code",
   "execution_count": 109,
   "metadata": {},
   "outputs": [
    {
     "name": "stdout",
     "output_type": "stream",
     "text": [
      "Training accuracy: 0.71915\n",
      "Testing accuracy: 0.72053\n",
      "Validation accuracy: 0.71853\n"
     ]
    }
   ],
   "source": [
    "n = len(X)\n",
    "X_train, X_test, X_val = (X[0:n//3+1], X[n//3+1:2*n//3+1], X[2*n//3+1::])\n",
    "Y_train, Y_test, Y_val = (Y[0:n//3+1], Y[n//3+1:2*n//3+1], Y[2*n//3+1::])\n",
    "\n",
    "lam = 1.0\n",
    "theta = train(lam, X_train, Y_train, f, fprime)\n",
    "acc_train = accuracy(theta, Y_train, X_train)\n",
    "acc_test = accuracy(theta, Y_test, X_test)\n",
    "acc_val = accuracy(theta, Y_val, X_val)\n",
    "\n",
    "print(\"Training accuracy: {0:.5f}\".format(acc_train))\n",
    "print(\"Testing accuracy: {0:.5f}\".format(acc_test))\n",
    "print(\"Validation accuracy: {0:.5f}\".format(acc_val))"
   ]
  },
  {
   "cell_type": "code",
   "execution_count": null,
   "metadata": {},
   "outputs": [],
   "source": [
    "\n",
    "\n",
    "\n",
    "\n",
    "\n",
    "\n",
    "\n",
    "\n",
    "\n",
    "\n",
    "\n",
    "\n",
    "\n",
    "\n",
    "\n",
    "\n",
    "\n",
    "\n",
    "\n",
    "\n",
    "\n",
    "\n",
    "\n",
    "\n",
    "\n",
    "\n",
    "\n",
    "\n",
    "\n",
    "\n",
    "\n",
    "\n",
    "\n",
    "\n",
    "\n",
    "\n"
   ]
  },
  {
   "cell_type": "markdown",
   "metadata": {},
   "source": [
    "# Problem 2"
   ]
  },
  {
   "cell_type": "code",
   "execution_count": 110,
   "metadata": {},
   "outputs": [],
   "source": [
    "def true_positive(Y, predictions):\n",
    "    TP = np.sum(np.logical_and(predictions == 1, Y == 1))\n",
    "    return TP\n",
    "\n",
    "def true_negative(Y, predictions):\n",
    "    TN = np.sum(np.logical_and(predictions == 0, Y == 0))\n",
    "    return TN\n",
    "\n",
    "def false_positive(Y, predictions):\n",
    "    FP = np.sum(np.logical_and(predictions == 1, Y == 0))\n",
    "    return FP\n",
    "\n",
    "def false_negative(Y, predictions):\n",
    "    FN = np.sum(np.logical_and(predictions == 0, Y == 1))\n",
    "    return FN\n",
    "\n",
    "def balanced_error_rate(Y, predictions): \n",
    "    TP = true_positive(Y, predictions)\n",
    "    FP = false_positive(Y, predictions)\n",
    "    FN = false_negative(Y, predictions)\n",
    "    TN = true_negative(Y, predictions)\n",
    "    TPR = TP / float((TP + FN))\n",
    "    TNR = TN / float((TN + FP))\n",
    "    return 1. - 0.5 * (TPR + TNR)"
   ]
  },
  {
   "cell_type": "code",
   "execution_count": 111,
   "metadata": {},
   "outputs": [
    {
     "name": "stdout",
     "output_type": "stream",
     "text": [
      "True Positive: 9059\n",
      "True Negative: 2950\n",
      "False Positive: 3288\n",
      "False Negative: 1370\n",
      "Balanced Error rate: 0.32922824057303646\n"
     ]
    }
   ],
   "source": [
    "predictions = predict(X_test, theta)\n",
    "print(\"True Positive:\", true_positive(Y_test, predictions))\n",
    "print(\"True Negative:\", true_negative(Y_test, predictions))\n",
    "print(\"False Positive:\", false_positive(Y_test, predictions))\n",
    "print(\"False Negative:\", false_negative(Y_test, predictions))\n",
    "print(\"Balanced Error rate:\", balanced_error_rate(Y_test, predictions))"
   ]
  },
  {
   "cell_type": "code",
   "execution_count": null,
   "metadata": {},
   "outputs": [],
   "source": [
    "\n",
    "\n",
    "\n",
    "\n",
    "\n",
    "\n",
    "\n",
    "\n",
    "\n",
    "\n",
    "\n",
    "\n",
    "\n"
   ]
  },
  {
   "cell_type": "markdown",
   "metadata": {},
   "source": [
    "# Problem 3"
   ]
  },
  {
   "cell_type": "markdown",
   "metadata": {},
   "source": [
    "The classifier is less effective than it could be as the class imbalance, there are far more False positives campared as False Negatives.\n",
    "The False positives stress more influence on the balanced error rate, so we need to assign less importance on False Positives, assign 10 times importance on False Negatives. We need to make coefficient of False Positive 10 times less than False Negative, which is |y_i == 1| is 10 times compared with |y_i == 0|. \n",
    "\n",
    "\n",
    "\n",
    "\n",
    "\n",
    "\n",
    "\n"
   ]
  },
  {
   "cell_type": "code",
   "execution_count": 132,
   "metadata": {},
   "outputs": [],
   "source": [
    "TP = true_positive(Y_test, predictions)\n",
    "TN = true_negative(Y_test, predictions)\n",
    "FP = false_positive(Y_test, predictions)\n",
    "FN = false_negative(Y_test, predictions)\n",
    "def get_weight_const(y):\n",
    "    n = float(len(y))\n",
    "    y1 = float(np.count_nonzero(y))\n",
    "    y0 = n - y1\n",
    "    c1 = n / ( y1 * 10 * 2.)\n",
    "    c0 = n/ ( y0 * 2.)\n",
    "    return c0, c1\n",
    "\n",
    "# Negative log likelihood\n",
    "def f(theta, X, y, lam):\n",
    "    c0, c1 = get_weight_const(y)\n",
    "    loglikelihood = 0\n",
    "    # Array of inner products for X_i, theta\n",
    "    logits = np.dot(X, theta.T)\n",
    "    for i in range(len(X)):\n",
    "        if y[i]:\n",
    "            loglikelihood -= log(1 + exp(-logits[i])) * c1\n",
    "        else:\n",
    "            loglikelihood -= log(1 + exp(-logits[i])) * c0\n",
    "            loglikelihood -= logits[i] * c0\n",
    "    for k in range(len(theta)):\n",
    "        loglikelihood -= lam * theta[k]*theta[k]\n",
    "    #print loglikelihood\n",
    "    return -loglikelihood"
   ]
  },
  {
   "cell_type": "code",
   "execution_count": 133,
   "metadata": {},
   "outputs": [],
   "source": [
    "# NEGATIVE Derivative of log-likelihood\n",
    "def fprime(theta, X, y, lam):\n",
    "    c0, c1 = get_weight_const(y)\n",
    "    dl = [0]*len(theta)\n",
    "    # Inner product of X_i, theta\n",
    "    logits = np.dot(X, theta.T)\n",
    "    for i in range(len(X)):\n",
    "        for k in range(len(theta)):\n",
    "            if y[i]:\n",
    "                dl[k] += X[i][k] * (1 - sigmoid(logits[i])) * c1\n",
    "            else:\n",
    "                dl[k] += X[i][k] * (1 - sigmoid(logits[i])) * c0\n",
    "                dl[k] -= X[i][k] * c0\n",
    "    for k in range(len(theta)):\n",
    "        dl[k] -= lam*2*theta[k]\n",
    "    return np.array([-x for x in dl])"
   ]
  },
  {
   "cell_type": "code",
   "execution_count": 134,
   "metadata": {},
   "outputs": [],
   "source": [
    "def print_metrics(X, Y, theta):\n",
    "    predictions  = predict(X, theta)\n",
    "    print(\"True Positive:\", true_positive(Y, predictions))\n",
    "    print(\"True Negative:\", true_negative(Y, predictions))\n",
    "    print(\"False Positive:\", false_positive(Y, predictions))\n",
    "    print(\"False Negative:\", false_negative(Y, predictions))\n",
    "    print(\"Balanced Error rate:\", balanced_error_rate(Y, predictions))\n",
    "    print(\"Accuracy:\", accuracy(theta, Y, X))"
   ]
  },
  {
   "cell_type": "code",
   "execution_count": 135,
   "metadata": {},
   "outputs": [
    {
     "name": "stdout",
     "output_type": "stream",
     "text": [
      "-----\n",
      "Training set:\n",
      "True Positive: 91\n",
      "True Negative: 6284\n",
      "False Positive: 6\n",
      "False Negative: 10286\n",
      "Balanced Error rate: 0.49609225060987727\n",
      "Accuracy: 0.38249235015299693\n",
      "-----\n",
      "Testing set:\n",
      "True Positive: 83\n",
      "True Negative: 6234\n",
      "False Positive: 4\n",
      "False Negative: 10346\n",
      "Balanced Error rate: 0.4963413270595277\n",
      "Accuracy: 0.379012419751605\n",
      "-----\n",
      "Validation set:\n",
      "True Positive: 73\n",
      "True Negative: 6298\n",
      "False Positive: 5\n",
      "False Negative: 10290\n",
      "Balanced Error rate: 0.49687449042560083\n",
      "Accuracy: 0.3822752910116405\n"
     ]
    }
   ],
   "source": [
    "n = len(X)\n",
    "X_train, X_test, X_val = (X[0:n//3+1], X[n//3+1:2*n//3+1], X[2*n//3+1::])\n",
    "Y_train, Y_test, Y_val = (Y[0:n//3+1], Y[n//3+1:2*n//3+1], Y[2*n//3+1::])\n",
    "\n",
    "lam = 1.0\n",
    "theta = train(lam, X_train, Y_train, f, fprime)\n",
    "print(\"-----\\nTraining set:\")\n",
    "print_metrics(X_train, Y_train, theta)\n",
    "print(\"-----\\nTesting set:\")\n",
    "print_metrics(X_test, Y_test, theta)\n",
    "print(\"-----\\nValidation set:\")\n",
    "print_metrics(X_val, Y_val, theta)\n",
    "\n",
    "\n",
    "\n",
    "\n",
    "\n",
    "\n",
    "\n",
    "\n",
    "\n",
    "\n",
    "\n",
    "\n",
    "\n",
    "\n"
   ]
  },
  {
   "cell_type": "markdown",
   "metadata": {},
   "source": [
    "\n",
    "\n",
    "\n",
    "\n",
    "\n",
    "\n",
    "\n",
    "\n",
    "\n",
    "\n",
    "\n",
    "\n",
    "\n",
    "\n"
   ]
  },
  {
   "cell_type": "markdown",
   "metadata": {},
   "source": [
    "# Problem 4"
   ]
  },
  {
   "cell_type": "code",
   "execution_count": 24,
   "metadata": {},
   "outputs": [
    {
     "name": "stdout",
     "output_type": "stream",
     "text": [
      "lam=0.0 \t ber=0.4613944158070208\n",
      "lam=0.01 \t ber=0.4613944158070208\n",
      "lam=0.1 \t ber=0.4613944158070208\n",
      "lam=1.0 \t ber=0.4613944158070208\n",
      "lam=7.5 \t ber=0.4613944158070208\n",
      "lam=8.0 \t ber=0.4613944158070208\n",
      "lam=8.5 \t ber=0.4613944158070208\n",
      "lam=10.0 \t ber=0.4613944158070208\n",
      "lam=50.0 \t ber=0.4613944158070208\n",
      "lam=100.0 \t ber=0.4613944158070208\n"
     ]
    }
   ],
   "source": [
    "def get_BER(lam, f, fprime, X, Y):\n",
    "    n = len(X)\n",
    "    X_train, X_test, X_val = (X[0:n//3+1], X[n//3+1:2*n//3+1], X[2*n//3+1::])\n",
    "    Y_train, Y_test, Y_val = (Y[0:n//3+1], Y[n//3+1:2*n//3+1], Y[2*n//3+1::])\n",
    "\n",
    "    # Find theta on training data\n",
    "    theta = train(lam, X_train, Y_train, f, fprime)\n",
    "    # Tune the lambda with validation set\n",
    "    predictions = predict(X_val, theta)\n",
    "    # Tune the lambda with validation set\n",
    "    BER = balanced_error_rate(Y_val, predictions)\n",
    "    print(\"lam={} \\t ber={}\".format(lam, BER))\n",
    "    return BER\n",
    "\n",
    "lams = [0.00, 0.01, 0.10, 1.0, 7.5, 8.0, 8.5, 10.0, 50.0, 100.0]\n",
    "BERs = []\n",
    "for lam in lams:\n",
    "    b = get_BER(lam, f, fprime, X, Y)\n",
    "    BERs.append(b)"
   ]
  },
  {
   "cell_type": "code",
   "execution_count": 11,
   "metadata": {},
   "outputs": [
    {
     "data": {
      "image/png": "[encoded data removed]",
      "text/plain": [
       "<Figure size 432x288 with 1 Axes>"
      ]
     },
     "metadata": {
      "needs_background": "light"
     },
     "output_type": "display_data"
    }
   ],
   "source": [
    "plt.plot(lams, BERs, label=\"Validation BER\")\n",
    "plt.legend()\n",
    "plt.xlabel('Lambda')\n",
    "plt.ylabel('BER')\n",
    "plt.show()"
   ]
  },
  {
   "cell_type": "code",
   "execution_count": 12,
   "metadata": {},
   "outputs": [
    {
     "name": "stdout",
     "output_type": "stream",
     "text": [
      "-----\n",
      "Training set:\n",
      "True Positive: 7725\n",
      "True Negative: 4254\n",
      "False Positive: 1978\n",
      "False Negative: 2710\n",
      "Balanced Error rate: 0.28854850892467765\n",
      "Accuracy: 0.7187256254874903\n",
      "-----\n",
      "Testing set:\n",
      "True Positive: 7651\n",
      "True Negative: 4263\n",
      "False Positive: 2072\n",
      "False Negative: 2681\n",
      "Balanced Error rate: 0.29327845902768424\n",
      "Accuracy: 0.7148257034859303\n",
      "-----\n",
      "Validation set:\n",
      "True Positive: 7715\n",
      "True Negative: 4274\n",
      "False Positive: 1990\n",
      "False Negative: 2687\n",
      "Balanced Error rate: 0.28800204327539913\n",
      "Accuracy: 0.71936877475099\n"
     ]
    }
   ],
   "source": [
    "lam = 1\n",
    "theta = train(lam, X_train, Y_train, f, fprime)\n",
    "print(\"-----\\nTraining set:\")\n",
    "print_metrics(X_train, Y_train, theta)\n",
    "print(\"-----\\nTesting set:\")\n",
    "print_metrics(X_test, Y_test, theta)\n",
    "print(\"-----\\nValidation set:\")\n",
    "print_metrics(X_val, Y_val, theta)"
   ]
  },
  {
   "cell_type": "code",
   "execution_count": null,
   "metadata": {},
   "outputs": [],
   "source": [
    "\n",
    "\n",
    "\n",
    "\n",
    "\n",
    "\n",
    "\n",
    "\n",
    "\n",
    "\n",
    "\n",
    "\n",
    "\n",
    "\n",
    "\n",
    "\n",
    "\n",
    "\n"
   ]
  },
  {
   "cell_type": "markdown",
   "metadata": {},
   "source": [
    "# Problem 5"
   ]
  },
  {
   "cell_type": "code",
   "execution_count": 4,
   "metadata": {},
   "outputs": [],
   "source": [
    "import networkx as nx\n",
    "import matplotlib.pyplot as plt"
   ]
  },
  {
   "cell_type": "code",
   "execution_count": 5,
   "metadata": {},
   "outputs": [
    {
     "data": {
      "text/plain": [
       "<Figure size 432x288 with 0 Axes>"
      ]
     },
     "metadata": {},
     "output_type": "display_data"
    }
   ],
   "source": [
    "G = nx.karate_club_graph()\n",
    "plt.show()\n",
    "plt.clf()"
   ]
  },
  {
   "cell_type": "code",
   "execution_count": 6,
   "metadata": {},
   "outputs": [],
   "source": [
    "edges = set()\n",
    "nodes = set()\n",
    "for edge in urllib.request.urlopen(\"file:egonet.txt\"):\n",
    "    x, y = edge.split()\n",
    "    x, y = int(x), int(y)\n",
    "    edges.add((x,y))\n",
    "    edges.add((y,x))\n",
    "    nodes.add(x)\n",
    "    nodes.add(y)"
   ]
  },
  {
   "cell_type": "code",
   "execution_count": 7,
   "metadata": {},
   "outputs": [
    {
     "data": {
      "image/png": "[encoded data removed]",
      "text/plain": [
       "<Figure size 432x288 with 1 Axes>"
      ]
     },
     "metadata": {},
     "output_type": "display_data"
    },
    {
     "data": {
      "text/plain": [
       "<Figure size 432x288 with 0 Axes>"
      ]
     },
     "metadata": {},
     "output_type": "display_data"
    }
   ],
   "source": [
    "G = nx.Graph()\n",
    "for e in edges:\n",
    "    G.add_edge(e[0], e[1])\n",
    "nx.draw(G)\n",
    "plt.show()\n",
    "plt.clf()"
   ]
  },
  {
   "cell_type": "code",
   "execution_count": 8,
   "metadata": {},
   "outputs": [
    {
     "name": "stdout",
     "output_type": "stream",
     "text": [
      "3\n",
      "40\n"
     ]
    }
   ],
   "source": [
    "connectedComponents = list(nx.connected_components(G))\n",
    "print(len(connectedComponents))\n",
    "print(len(connectedComponents[0]))"
   ]
  },
  {
   "cell_type": "code",
   "execution_count": null,
   "metadata": {},
   "outputs": [],
   "source": [
    "\n",
    "\n",
    "\n",
    "\n",
    "\n",
    "\n",
    "\n",
    "\n",
    "\n",
    "\n",
    "\n",
    "\n",
    "\n",
    "\n",
    "\n",
    "\n",
    "\n",
    "\n",
    "\n",
    "\n",
    "\n",
    "\n",
    "\n",
    "\n",
    "\n",
    "\n",
    "\n",
    "\n",
    "\n",
    "\n",
    "\n",
    "\n",
    "\n",
    "\n",
    "\n",
    "\n",
    "\n",
    "\n",
    "\n",
    "\n",
    "\n",
    "\n",
    "\n",
    "\n",
    "\n",
    "\n"
   ]
  },
  {
   "cell_type": "markdown",
   "metadata": {},
   "source": [
    "# Problem 6"
   ]
  },
  {
   "cell_type": "code",
   "execution_count": 211,
   "metadata": {},
   "outputs": [],
   "source": [
    "nodes_connected = connectedComponents[0]\n",
    "l = list(nodes_connected)\n",
    "l.sort()\n",
    "nodes_left = l[:len(nodes_connected)//2]\n",
    "nodes_right = l[len(nodes_connected)//2:]"
   ]
  },
  {
   "cell_type": "code",
   "execution_count": 212,
   "metadata": {},
   "outputs": [
    {
     "name": "stdout",
     "output_type": "stream",
     "text": [
      "20 20\n"
     ]
    }
   ],
   "source": [
    "print(len(nodes_left), len(nodes_right))"
   ]
  },
  {
   "cell_type": "code",
   "execution_count": 213,
   "metadata": {},
   "outputs": [
    {
     "name": "stdout",
     "output_type": "stream",
     "text": [
      "440 242 198\n"
     ]
    }
   ],
   "source": [
    "degree_sum = 0\n",
    "for node in nodes_connected:\n",
    "    degree_sum += G.degree(node)\n",
    "degree_sum_left = 0\n",
    "for node in nodes_left:\n",
    "    degree_sum_left += G.degree(node)\n",
    "degree_sum_right = degree_sum - degree_sum_left\n",
    "print(degree_sum, degree_sum_left, degree_sum_right)"
   ]
  },
  {
   "cell_type": "code",
   "execution_count": 214,
   "metadata": {},
   "outputs": [
    {
     "name": "stdout",
     "output_type": "stream",
     "text": [
      "46\n",
      "0.42240587695133147\n"
     ]
    }
   ],
   "source": [
    "cut_count = 0\n",
    "for (x, y) in edges:\n",
    "    if x in nodes_left and y in nodes_right:\n",
    "        cut_count += 1\n",
    "        cut_edges = cut_count//2\n",
    "print(cut_edges)\n",
    "norm = ((cut_count*1.0/degree_sum_left)+(cut_count*1.0/degree_sum_right))/2\n",
    "print(norm)"
   ]
  },
  {
   "cell_type": "code",
   "execution_count": 215,
   "metadata": {},
   "outputs": [],
   "source": [
    "def cut(S, T, graph):\n",
    "    count = 0\n",
    "    for n in S:\n",
    "        for m in T:\n",
    "            if graph.has_edge(n,m):\n",
    "                count = count+1\n",
    "    return count"
   ]
  },
  {
   "cell_type": "code",
   "execution_count": 216,
   "metadata": {},
   "outputs": [],
   "source": [
    "def norm_cut(S, T, graph):\n",
    "    ST_cut = cut(S,T,graph)\n",
    "    norm = ((cut_count*1.0/degree_sum_left)+(cut_count*1.0/degree_sum_right))/2\n",
    "    return norm"
   ]
  },
  {
   "cell_type": "code",
   "execution_count": 217,
   "metadata": {},
   "outputs": [
    {
     "data": {
      "text/plain": [
       "0.42240587695133147"
      ]
     },
     "execution_count": 217,
     "metadata": {},
     "output_type": "execute_result"
    }
   ],
   "source": [
    "norm_cut(nodes_left, nodes_right, G)"
   ]
  },
  {
   "cell_type": "markdown",
   "metadata": {},
   "source": [
    "# Problem 7"
   ]
  },
  {
   "cell_type": "code",
   "execution_count": 218,
   "metadata": {},
   "outputs": [],
   "source": [
    "from networkx.algorithms import community"
   ]
  },
  {
   "cell_type": "code",
   "execution_count": 219,
   "metadata": {},
   "outputs": [],
   "source": [
    "nodes_connected = connectedComponents[0]\n",
    "l = list(nodes_connected)\n",
    "l.sort()\n",
    "nodes_left = l[:len(nodes_connected)//2]\n",
    "nodes_right = l[len(nodes_connected)//2:]\n",
    "norm = norm_cut(nodes_left, nodes_right, G)\n",
    "norm_cut_move = 0"
   ]
  },
  {
   "cell_type": "code",
   "execution_count": 220,
   "metadata": {},
   "outputs": [
    {
     "name": "stdout",
     "output_type": "stream",
     "text": [
      "[703, 713, 729, 747, 769, 774, 800, 804, 810, 819, 719, 753, 803, 811, 745, 805, 798, 708] [823, 825, 828, 830, 840, 856, 861, 863, 864, 869, 876, 878, 880, 882, 884, 886, 888, 889, 890, 893, 697, 772]\n",
      "22\n"
     ]
    },
    {
     "data": {
      "text/plain": [
       "0.4182163815191338"
      ]
     },
     "execution_count": 220,
     "metadata": {},
     "output_type": "execute_result"
    }
   ],
   "source": [
    "i = 0\n",
    "while i < len(nodes_left):\n",
    "    selected_node = nodes_left[i]\n",
    "    nodes_right.append(selected_node)\n",
    "    nodes_left.remove(selected_node)\n",
    "    degree_sum_left -= G.degree(selected_node)\n",
    "    degree_sum_right += G.degree(selected_node)\n",
    "    if norm_cut(nodes_left, nodes_right, G) < norm:\n",
    "        norm = norm_cut(nodes_left, nodes_right, G)\n",
    "    else:\n",
    "        nodes_right.remove(selected_node)\n",
    "        nodes_left.append(selected_node)\n",
    "        degree_sum_left += G.degree(selected_node)\n",
    "        degree_sum_right -= G.degree(selected_node)\n",
    "    i += 1\n",
    "print(nodes_left,nodes_right)\n",
    "print(len(nodes_right))\n",
    "norm"
   ]
  },
  {
   "cell_type": "code",
   "execution_count": 221,
   "metadata": {},
   "outputs": [
    {
     "name": "stdout",
     "output_type": "stream",
     "text": [
      "[703, 713, 729, 747, 769, 774, 800, 804, 810, 819, 719, 753, 803, 811, 745, 805, 798, 708, 884] [825, 830, 856, 863, 869, 878, 882, 886, 889, 893, 772, 828, 861, 876, 888, 697, 840, 880, 823, 890, 864]\n",
      "21\n",
      "The normalized cost is 0.41819045848054714\n"
     ]
    }
   ],
   "source": [
    "i = 0\n",
    "while i < len(nodes_right):\n",
    "    selected_node = nodes_right[i]\n",
    "    nodes_left.append(selected_node)\n",
    "    nodes_right.remove(selected_node)\n",
    "    degree_sum_right -= G.degree(selected_node)\n",
    "    degree_sum_left += G.degree(selected_node)\n",
    "    if norm_cut(nodes_left, nodes_right, G) < norm:\n",
    "        norm = norm_cut(nodes_left, nodes_right, G)\n",
    "    else:\n",
    "        nodes_left.remove(selected_node)\n",
    "        nodes_right.append(selected_node)\n",
    "        degree_sum_right += G.degree(selected_node)\n",
    "        degree_sum_left -= G.degree(selected_node)\n",
    "    i += 1\n",
    "print(nodes_left,nodes_right)\n",
    "print(len(nodes_right))\n",
    "print(\"The normalized cost is\", norm)"
   ]
  },
  {
   "cell_type": "code",
   "execution_count": null,
   "metadata": {},
   "outputs": [],
   "source": [
    "\n",
    "\n",
    "\n",
    "\n",
    "\n",
    "\n",
    "\n",
    "\n",
    "\n",
    "\n",
    "\n",
    "\n",
    "\n",
    "\n",
    "\n",
    "\n",
    "\n",
    "\n",
    "\n",
    "\n",
    "\n",
    "\n",
    "\n",
    "\n",
    "\n",
    "\n",
    "\n",
    "\n",
    "\n"
   ]
  },
  {
   "cell_type": "markdown",
   "metadata": {},
   "source": [
    "# Problem 8"
   ]
  },
  {
   "cell_type": "code",
   "execution_count": 239,
   "metadata": {},
   "outputs": [],
   "source": [
    "import community\n",
    "from networkx.algorithms.community.quality import modularity\n",
    "from networkx.algorithms import community\n",
    "import igraph\n",
    "\n",
    "edges_sum = 440"
   ]
  },
  {
   "cell_type": "code",
   "execution_count": 245,
   "metadata": {},
   "outputs": [],
   "source": [
    "def modularity(nodes_left, nodes_right, edges):\n",
    "    edges_only_in_first = 0\n",
    "    edges_only_in_second = 0\n",
    "    edges_in_first = 0\n",
    "    edges_in_second = 0\n",
    "    for (x, y) in edges:\n",
    "        if x in nodes_left and y in nodes_left:\n",
    "            edges_only_in_first += 1\n",
    "        if x in nodes_left or y in nodes_left:\n",
    "            edges_in_first += 1\n",
    "        if x in nodes_right and y in nodes_right:\n",
    "            edges_only_in_second += 1\n",
    "        if x in nodes_right or y in nodes_right:\n",
    "            edges_in_second += 1\n",
    "    e11 = edges_only_in_first//2 *1.0/edges_sum\n",
    "    a1 = edges_in_first//2 *2.0/edges_sum\n",
    "    e22 = edges_only_in_second//2 *1.0/edges_sum\n",
    "    a2 = edges_in_second//2 *2.0/edges_sum\n",
    "    Q = (e11-a1**2) + (e22-a2**2)\n",
    "    return(\"modularity score = \" ,Q, edges_only_in_first, edges_only_in_second, edges_in_first, edges_in_second, edges_sum)"
   ]
  },
  {
   "cell_type": "code",
   "execution_count": 246,
   "metadata": {},
   "outputs": [
    {
     "data": {
      "text/plain": [
       "('modularity score = ', -0.4879132231404959, 198, 116, 324, 242, 440)"
      ]
     },
     "execution_count": 246,
     "metadata": {},
     "output_type": "execute_result"
    }
   ],
   "source": [
    "modularity(nodes_left, nodes_right, edges)"
   ]
  },
  {
   "cell_type": "code",
   "execution_count": 247,
   "metadata": {},
   "outputs": [],
   "source": [
    "degrees = [val for (node, val) in G.degree()]"
   ]
  },
  {
   "cell_type": "code",
   "execution_count": 248,
   "metadata": {},
   "outputs": [
    {
     "name": "stdout",
     "output_type": "stream",
     "text": [
      "[805, 745, 769, 713, 823, 810, 708, 703, 803, 774, 880, 811, 772, 800, 819, 830, 798, 840, 719, 869, 747] [863, 886, 828, 697, 890, 884, 889, 825, 882, 753, 893, 729, 888, 864, 876, 861, 856, 878, 804]\n",
      "19\n"
     ]
    },
    {
     "data": {
      "text/plain": [
       "('modularity score = ', -0.407603305785124, 196, 136, 304, 244, 440)"
      ]
     },
     "execution_count": 248,
     "metadata": {},
     "output_type": "execute_result"
    }
   ],
   "source": [
    "i = 0\n",
    "modularity_score = modularity(nodes_left, nodes_right, edges)\n",
    "while i < len(nodes_left):\n",
    "    selected_node = nodes_left[i]\n",
    "    nodes_right.append(selected_node)\n",
    "    nodes_left.remove(selected_node)\n",
    "    if modularity_score < modularity(nodes_left, nodes_right, edges):\n",
    "        modularity_score = modularity(nodes_left, nodes_right, edges)\n",
    "    else:\n",
    "        nodes_right.remove(selected_node)\n",
    "        nodes_left.append(selected_node)\n",
    "        mpdularity_score = modularity(nodes_left, nodes_right, edges)\n",
    "    i += 1\n",
    "print(nodes_left,nodes_right)\n",
    "print(len(nodes_right))\n",
    "modularity_score"
   ]
  },
  {
   "cell_type": "code",
   "execution_count": 249,
   "metadata": {},
   "outputs": [
    {
     "name": "stdout",
     "output_type": "stream",
     "text": [
      "[805, 745, 769, 713, 823, 810, 708, 703, 803, 774, 880, 811, 772, 800, 819, 830, 798, 840, 719, 869, 747, 828, 890] [886, 697, 884, 825, 753, 729, 864, 861, 878, 863, 882, 888, 856, 889, 876, 893, 804]\n",
      "17\n"
     ]
    },
    {
     "data": {
      "text/plain": [
       "('modularity score = ', -0.2976652892561984, 238, 128, 312, 202, 440)"
      ]
     },
     "execution_count": 249,
     "metadata": {},
     "output_type": "execute_result"
    }
   ],
   "source": [
    "i = 0\n",
    "modularity_score = modularity(nodes_left, nodes_right, edges)\n",
    "while i < len(nodes_right):\n",
    "    selected_node = nodes_right[i]\n",
    "    nodes_left.append(selected_node)\n",
    "    nodes_right.remove(selected_node)\n",
    "    if modularity_score < modularity(nodes_left, nodes_right, edges):\n",
    "        modularity_score = modularity(nodes_left, nodes_right, edges)\n",
    "    else:\n",
    "        nodes_left.remove(selected_node)\n",
    "        nodes_right.append(selected_node)\n",
    "        mpdularity_score = modularity(nodes_left, nodes_right, edges)\n",
    "    i += 1\n",
    "print(nodes_left,nodes_right)\n",
    "print(len(nodes_right))\n",
    "modularity_score"
   ]
  },
  {
   "cell_type": "code",
   "execution_count": 204,
   "metadata": {},
   "outputs": [],
   "source": [
    "def _naive_greedy_modularity_communities(G):\n",
    "    \"\"\"Find communities in graph using the greedy modularity maximization.\n",
    "    This implementation is O(n^4), much slower than alternatives, but it is\n",
    "    provided as an easy-to-understand reference implementation.\n",
    "    \"\"\"\n",
    "    # First create one community for each node\n",
    "    communities = list([frozenset([u]) for u in G.nodes()])\n",
    "    # Track merges\n",
    "    merges = []\n",
    "    # Greedily merge communities until no improvement is possible\n",
    "    old_modularity = None\n",
    "    new_modularity = modularity(nodes_left, nodes_right, edges)\n",
    "    while old_modularity is None or new_modularity > old_modularity:\n",
    "        # Save modularity for comparison\n",
    "        old_modularity = new_modularity\n",
    "        # Find best pair to merge\n",
    "        trial_communities = list(communities)\n",
    "        to_merge = None\n",
    "        for i, u in enumerate(communities):\n",
    "            for j, v in enumerate(communities):\n",
    "                # Skip i=j and empty communities\n",
    "                if j <= i or len(u) == 0 or len(v) == 0:\n",
    "                    continue\n",
    "                # Merge communities u and v\n",
    "                trial_communities[j] = u | v\n",
    "                trial_communities[i] = frozenset([])\n",
    "                trial_modularity = modularity(nodes_left, nodes_right, edges)\n",
    "                if trial_modularity >= new_modularity:\n",
    "                    # Check if strictly better or tie\n",
    "                    if trial_modularity > new_modularity:\n",
    "                        # Found new best, save modularity and group indexes\n",
    "                        new_modularity = trial_modularity\n",
    "                        to_merge = (i, j, new_modularity - old_modularity)\n",
    "                    elif (\n",
    "                        to_merge and\n",
    "                        min(i, j) < min(to_merge[0], to_merge[1])\n",
    "                    ):\n",
    "                        # Break ties by choosing pair with lowest min id\n",
    "                        new_modularity = trial_modularity\n",
    "                        to_merge = (i, j, new_modularity - old_modularity)\n",
    "                # Un-merge\n",
    "                trial_communities[i] = u\n",
    "                trial_communities[j] = v\n",
    "        if to_merge is not None:\n",
    "            # If the best merge improves modularity, use it\n",
    "            merges.append(to_merge)\n",
    "            i, j, dq = to_merge\n",
    "            u, v = communities[i], communities[j]\n",
    "            communities[j] = u | v\n",
    "            communities[i] = frozenset([])\n",
    "    # Remove empty communities and sort\n",
    "    communities = [c for c in communities if len(c) > 0]\n",
    "    for com in sorted(communities, key=lambda x: len(x), reverse=True):\n",
    "        yield com\n",
    "    return communities"
   ]
  },
  {
   "cell_type": "code",
   "execution_count": 185,
   "metadata": {},
   "outputs": [
    {
     "data": {
      "text/plain": [
       "<generator object _naive_greedy_modularity_communities at 0x102271acf0>"
      ]
     },
     "execution_count": 185,
     "metadata": {},
     "output_type": "execute_result"
    }
   ],
   "source": [
    "_naive_greedy_modularity_communities(G)"
   ]
  },
  {
   "cell_type": "code",
   "execution_count": null,
   "metadata": {},
   "outputs": [],
   "source": []
  }
 ],
 "metadata": {
  "kernelspec": {
   "display_name": "Python 3",
   "language": "python",
   "name": "python3"
  },
  "language_info": {
   "codemirror_mode": {
    "name": "ipython",
    "version": 3
   },
   "file_extension": ".py",
   "mimetype": "text/x-python",
   "name": "python",
   "nbconvert_exporter": "python",
   "pygments_lexer": "ipython3",
   "version": "3.7.0"
  }
 },
 "nbformat": 4,
 "nbformat_minor": 2
}
